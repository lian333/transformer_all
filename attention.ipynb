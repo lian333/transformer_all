{
 "cells": [
  {
   "cell_type": "code",
   "execution_count": null,
   "metadata": {},
   "outputs": [],
   "source": []
  },
  {
   "cell_type": "markdown",
   "metadata": {},
   "source": [
    "# Attention mechanismus"
   ]
  },
  {
   "cell_type": "code",
   "execution_count": 2,
   "metadata": {},
   "outputs": [],
   "source": [
    "import random\n",
    "import pandas as pd\n",
    "import numpy as np\n",
    "\n",
    "\n",
    "def generate_data(n, m, k):\n",
    "    data = []\n",
    "    for i in range(n):\n",
    "        row = []\n",
    "        for j in range(m):\n",
    "            row.append(random.randint(0, k))\n",
    "        data.append(row)\n",
    "    return data\n"
   ]
  },
  {
   "cell_type": "code",
   "execution_count": 4,
   "metadata": {},
   "outputs": [
    {
     "name": "stdout",
     "output_type": "stream",
     "text": [
      "    0   1   2   3   4\n",
      "0  17   4  88  94  19\n",
      "1  51  90  97  83  84\n",
      "2  93  79  45  61  55\n",
      "3  11  94  82  12  63\n",
      "4  80  42  21   6   3\n",
      "5  29  10  15  33  37\n",
      "6  20   3  71  41  50\n",
      "7  16  31  18  49  90\n",
      "8   5  14  40  78  43\n",
      "9  82  64  27  19  22\n"
     ]
    }
   ],
   "source": [
    "list1 = generate_data(10, 5, 100)\n",
    "list1 = pd.DataFrame(list1)\n",
    "print(list1)"
   ]
  },
  {
   "cell_type": "code",
   "execution_count": 117,
   "metadata": {},
   "outputs": [
    {
     "name": "stdout",
     "output_type": "stream",
     "text": [
      "(5, 1)\n",
      "[[0]]\n",
      "[[0]]\n",
      "[[0]]\n",
      "[[0]]\n",
      "[[0]]\n",
      "4.0\n",
      "[[0.25]]\n",
      "[[0.25]]\n",
      "[[0.25]]\n",
      "[[0.25]]\n",
      "1.0\n"
     ]
    }
   ],
   "source": [
    "x1=np.random.randint(0,1,4).reshape(4,1)\n",
    "x2=np.random.randint(0,1,4).reshape(4,1)\n",
    "x3=np.random.randint(0,1,4).reshape(4,1)\n",
    "x4=np.random.randint(0,1,4).reshape(4,1)\n",
    "x1\n",
    "\n",
    "W1=np.random.randint(0,1,20).reshape(5,4)\n",
    "W2=np.random.randint(0,1,20).reshape(5,4)\n",
    "W3=np.random.randint(0,1,20).reshape(5,4)\n",
    "W4=np.random.randint(0,1,20).reshape(5,4)\n",
    "\n",
    "K1=np.random.randint(0,15,5).reshape(5,1)\n",
    "K2=np.random.randint(0,1,5).reshape(5,1)\n",
    "K3=np.random.randint(0,1,5).reshape(5,1)\n",
    "K4=np.random.randint(0,5,5).reshape(5,1)\n",
    "\n",
    "v1=np.random.randint(0,2,5).reshape(5,1)\n",
    "v2=np.random.randint(0,2,5).reshape(5,1)\n",
    "v3=np.random.randint(0,2,5).reshape(5,1)\n",
    "v4=np.random.randint(0,2,5).reshape(5,1)\n",
    "print(np.dot(W1, x1).shape)\n",
    "q1=np.dot(W1, x1)\n",
    "q2=np.dot(W2, x2)\n",
    "q3=np.dot(W3, x3)\n",
    "q4=np.dot(W4, x4)\n",
    "print(np.dot(q1.T, K1))\n",
    "a11=np.dot(q1.T, K1)\n",
    "a12=np.dot(q1.T, K2)\n",
    "a13=np.dot(q1.T, K3)\n",
    "a14=np.dot(q1.T, K4)\n",
    "print(a11)\n",
    "print(a12)\n",
    "print(a13)\n",
    "print(a14)\n",
    "all=[np.exp(a11), np.exp(a12), np.exp(a13), np.exp(a14)]\n",
    "toatl=np.sum(all)\n",
    "\n",
    "print(toatl)\n",
    "def softmax(e_x):\n",
    "    e_x=np.exp(e_x)\n",
    "    return e_x / toatl\n",
    "a111=softmax(a11)\n",
    "a112=softmax(a12)\n",
    "a113=softmax(a13)\n",
    "a114=softmax(a14)\n",
    "print(a111)\n",
    "print(a112)\n",
    "print(a113)\n",
    "print(a114)\n",
    "print(np.sum([a112,a111,a113,a114]))\n",
    "\n",
    "y1=np.sum([a111*v1,a112*v2,a113*v3,a114*v4])\n"
   ]
  },
  {
   "cell_type": "code",
   "execution_count": 119,
   "metadata": {},
   "outputs": [
    {
     "data": {
      "text/plain": [
       "2.0"
      ]
     },
     "execution_count": 119,
     "metadata": {},
     "output_type": "execute_result"
    }
   ],
   "source": [
    "y1"
   ]
  },
  {
   "cell_type": "code",
   "execution_count": 98,
   "metadata": {},
   "outputs": [],
   "source": []
  },
  {
   "cell_type": "code",
   "execution_count": 99,
   "metadata": {},
   "outputs": [
    {
     "data": {
      "text/plain": [
       "array([[0]])"
      ]
     },
     "execution_count": 99,
     "metadata": {},
     "output_type": "execute_result"
    }
   ],
   "source": []
  },
  {
   "cell_type": "code",
   "execution_count": 100,
   "metadata": {},
   "outputs": [
    {
     "name": "stdout",
     "output_type": "stream",
     "text": [
      "[[0]]\n",
      "[[0]]\n",
      "[[0]]\n",
      "[[0]]\n"
     ]
    }
   ],
   "source": []
  },
  {
   "cell_type": "code",
   "execution_count": 101,
   "metadata": {},
   "outputs": [
    {
     "data": {
      "text/plain": [
       "[array([[1.]]), array([[1.]]), array([[1.]]), array([[1.]])]"
      ]
     },
     "execution_count": 101,
     "metadata": {},
     "output_type": "execute_result"
    }
   ],
   "source": []
  },
  {
   "cell_type": "code",
   "execution_count": 105,
   "metadata": {},
   "outputs": [
    {
     "data": {
      "text/plain": [
       "4.0"
      ]
     },
     "execution_count": 105,
     "metadata": {},
     "output_type": "execute_result"
    }
   ],
   "source": []
  },
  {
   "cell_type": "code",
   "execution_count": 106,
   "metadata": {},
   "outputs": [
    {
     "name": "stdout",
     "output_type": "stream",
     "text": [
      "[[0.25]]\n",
      "[[0.25]]\n",
      "[[0.25]]\n",
      "[[0.25]]\n"
     ]
    }
   ],
   "source": []
  },
  {
   "cell_type": "code",
   "execution_count": 109,
   "metadata": {},
   "outputs": [
    {
     "data": {
      "text/plain": [
       "1.0"
      ]
     },
     "execution_count": 109,
     "metadata": {},
     "output_type": "execute_result"
    }
   ],
   "source": []
  },
  {
   "cell_type": "code",
   "execution_count": null,
   "metadata": {},
   "outputs": [],
   "source": []
  }
 ],
 "metadata": {
  "kernelspec": {
   "display_name": "Python 3",
   "language": "python",
   "name": "python3"
  },
  "language_info": {
   "codemirror_mode": {
    "name": "ipython",
    "version": 3
   },
   "file_extension": ".py",
   "mimetype": "text/x-python",
   "name": "python",
   "nbconvert_exporter": "python",
   "pygments_lexer": "ipython3",
   "version": "3.9.19"
  }
 },
 "nbformat": 4,
 "nbformat_minor": 2
}
