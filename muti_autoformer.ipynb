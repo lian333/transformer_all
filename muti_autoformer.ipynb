{
 "cells": [
  {
   "cell_type": "code",
   "execution_count": 8,
   "metadata": {},
   "outputs": [
    {
     "name": "stdout",
     "output_type": "stream",
     "text": [
      "['0.pdf', 'metrics.npy', 'pred.npy', 'true.npy']\n"
     ]
    },
    {
     "data": {
      "text/plain": [
       "(6, 24, 16)"
      ]
     },
     "execution_count": 8,
     "metadata": {},
     "output_type": "execute_result"
    }
   ],
   "source": [
    "import os\n",
    "import numpy as np\n",
    "import pandas as pd\n",
    "\n",
    "path=r'D:\\result\\custom_48_48_Autoformer_Custom_ftM_sl48_ll48_pl24_dm512_nh8_el2_dl1_df2048_fc1_ebtimeF_dtTrue_test_0\\data'\n",
    "filelist=os.listdir(path)\n",
    "print(filelist) \n",
    "true_datapath=os.path.join(path,filelist[3])\n",
    "true = np.load(true_datapath)\n",
    "\n",
    "pred_datapath=os.path.join(path,filelist[2])\n",
    "pred = np.load(pred_datapath)\n",
    "\n",
    "true.shape\n"
   ]
  },
  {
   "cell_type": "code",
   "execution_count": 22,
   "metadata": {},
   "outputs": [
    {
     "name": "stdout",
     "output_type": "stream",
     "text": [
      "2024-05-04 16:51:26\n"
     ]
    }
   ],
   "source": [
    "# get current time\n",
    "import time\n",
    "import datetime\n",
    "now = int(time.time())\n",
    "timeArray = time.localtime(now)\n",
    "currentTime = time.strftime(\"%Y-%m-%d %H:%M:%S\", timeArray)\n",
    "print(currentTime)"
   ]
  },
  {
   "cell_type": "code",
   "execution_count": 21,
   "metadata": {},
   "outputs": [
    {
     "data": {
      "text/plain": [
       "'test_0'"
      ]
     },
     "execution_count": 21,
     "metadata": {},
     "output_type": "execute_result"
    }
   ],
   "source": [
    "name='custom_48_48_Informer_Custom_ftM_sl48_ll48_pl24_dm512_nh8_el2_dl1_df2048_fc1_ebtimeF_dtTrue_test_0'\n",
    "name=str(name.split('_')[-2]+'_'+name.split('_')[-1])\n",
    "name"
   ]
  },
  {
   "cell_type": "code",
   "execution_count": 12,
   "metadata": {},
   "outputs": [
    {
     "name": "stdout",
     "output_type": "stream",
     "text": [
      "0.59370637 0.683154 0.8265313\n"
     ]
    }
   ],
   "source": [
    "def MAE(pred, true):\n",
    "    return np.mean(np.abs(pred - true))\n",
    "\n",
    "\n",
    "def MSE(pred, true):\n",
    "    return np.mean((pred - true) ** 2)\n",
    "\n",
    "\n",
    "def RMSE(pred, true):\n",
    "    return np.sqrt(MSE(pred, true))\n",
    "\n",
    "\n",
    "\n",
    "mae = MAE(pred, true)\n",
    "mse = MSE(pred, true)\n",
    "rmse = RMSE(pred, true)\n",
    "print(mae, mse, rmse,)"
   ]
  },
  {
   "cell_type": "code",
   "execution_count": 36,
   "metadata": {},
   "outputs": [
    {
     "data": {
      "text/plain": [
       "(250500, 18)"
      ]
     },
     "execution_count": 36,
     "metadata": {},
     "output_type": "execute_result"
    }
   ],
   "source": [
    "path=r'D:\\studydata\\Masterarbeit\\lian333\\transformer_all\\Data\\ETT\\Wurzburg.csv'\n",
    "import pandas as pd\n",
    "data = pd.read_csv(path)\n",
    "data.shape"
   ]
  },
  {
   "cell_type": "code",
   "execution_count": 24,
   "metadata": {},
   "outputs": [
    {
     "name": "stdout",
     "output_type": "stream",
     "text": [
      "43555\n",
      "87111.20000000001\n",
      "test_batch 1.0\n"
     ]
    }
   ],
   "source": [
    "len_true=1445916\n",
    "len=244087\n",
    "batch_size=2\n",
    "seq_len=115673\n",
    "pred_len=86400\n",
    "encode_lane=57836\n",
    "dataset=len_true*0.2-seq_len-pred_len+1\n",
    "print(int(dataset//batch_size))\n",
    "print(dataset)\n",
    "print('test_batch',dataset//pred_len)"
   ]
  },
  {
   "cell_type": "code",
   "execution_count": 5,
   "metadata": {},
   "outputs": [
    {
     "data": {
      "text/plain": [
       "25000.0"
      ]
     },
     "execution_count": 5,
     "metadata": {},
     "output_type": "execute_result"
    }
   ],
   "source": [
    "dataset=len*0.2-seq_len-pred_len+1\n",
    "dataset=2*pred_len\n",
    "seq_len=2*pred_len\n",
    "len_true=1445916\n"
   ]
  },
  {
   "cell_type": "code",
   "execution_count": 21,
   "metadata": {},
   "outputs": [
    {
     "data": {
      "text/plain": [
       "4"
      ]
     },
     "execution_count": 21,
     "metadata": {},
     "output_type": "execute_result"
    }
   ],
   "source": [
    "int(115673/25000)"
   ]
  },
  {
   "cell_type": "code",
   "execution_count": null,
   "metadata": {},
   "outputs": [],
   "source": [
    "50100-2*pred_len+1=2*pred_len"
   ]
  },
  {
   "cell_type": "code",
   "execution_count": 56,
   "metadata": {},
   "outputs": [
    {
     "name": "stdout",
     "output_type": "stream",
     "text": [
      "0\n",
      "25000\n"
     ]
    }
   ],
   "source": [
    "for i in range(0, pred_len*2, pred_len):\n",
    "    print(i)"
   ]
  },
  {
   "cell_type": "markdown",
   "metadata": {},
   "source": [
    "# My Data"
   ]
  },
  {
   "cell_type": "code",
   "execution_count": 80,
   "metadata": {},
   "outputs": [
    {
     "data": {
      "text/html": [
       "<div>\n",
       "<style scoped>\n",
       "    .dataframe tbody tr th:only-of-type {\n",
       "        vertical-align: middle;\n",
       "    }\n",
       "\n",
       "    .dataframe tbody tr th {\n",
       "        vertical-align: top;\n",
       "    }\n",
       "\n",
       "    .dataframe thead th {\n",
       "        text-align: right;\n",
       "    }\n",
       "</style>\n",
       "<table border=\"1\" class=\"dataframe\">\n",
       "  <thead>\n",
       "    <tr style=\"text-align: right;\">\n",
       "      <th></th>\n",
       "      <th>Standardabweichung_y</th>\n",
       "      <th>Variance_z</th>\n",
       "      <th>Variance_y</th>\n",
       "      <th>Standardabweichung_z</th>\n",
       "      <th>Effektivwert_x</th>\n",
       "      <th>Mittlere_Absolute_Abweichung_y</th>\n",
       "      <th>Effektivwert_y</th>\n",
       "      <th>Standardabweichung_x</th>\n",
       "      <th>Mittelwert_x</th>\n",
       "      <th>Variance_x</th>\n",
       "    </tr>\n",
       "    <tr>\n",
       "      <th>Time</th>\n",
       "      <th></th>\n",
       "      <th></th>\n",
       "      <th></th>\n",
       "      <th></th>\n",
       "      <th></th>\n",
       "      <th></th>\n",
       "      <th></th>\n",
       "      <th></th>\n",
       "      <th></th>\n",
       "      <th></th>\n",
       "    </tr>\n",
       "  </thead>\n",
       "  <tbody>\n",
       "    <tr>\n",
       "      <th>2021-02-12 14:26:40</th>\n",
       "      <td>194.290</td>\n",
       "      <td>300103</td>\n",
       "      <td>37786.3</td>\n",
       "      <td>547.542</td>\n",
       "      <td>421.507</td>\n",
       "      <td>168.181</td>\n",
       "      <td>430.811</td>\n",
       "      <td>336.610</td>\n",
       "      <td>-253.696</td>\n",
       "      <td>113420.0</td>\n",
       "    </tr>\n",
       "    <tr>\n",
       "      <th>2021-02-12 14:26:41</th>\n",
       "      <td>187.558</td>\n",
       "      <td>251653</td>\n",
       "      <td>35213.3</td>\n",
       "      <td>501.399</td>\n",
       "      <td>426.146</td>\n",
       "      <td>162.307</td>\n",
       "      <td>407.917</td>\n",
       "      <td>342.401</td>\n",
       "      <td>-253.696</td>\n",
       "      <td>117356.0</td>\n",
       "    </tr>\n",
       "    <tr>\n",
       "      <th>2021-02-12 14:26:42</th>\n",
       "      <td>187.221</td>\n",
       "      <td>268792</td>\n",
       "      <td>35086.6</td>\n",
       "      <td>518.193</td>\n",
       "      <td>418.621</td>\n",
       "      <td>163.119</td>\n",
       "      <td>419.403</td>\n",
       "      <td>328.824</td>\n",
       "      <td>-259.072</td>\n",
       "      <td>108233.0</td>\n",
       "    </tr>\n",
       "    <tr>\n",
       "      <th>2021-02-12 14:26:43</th>\n",
       "      <td>177.010</td>\n",
       "      <td>279167</td>\n",
       "      <td>31363.9</td>\n",
       "      <td>528.098</td>\n",
       "      <td>423.678</td>\n",
       "      <td>151.958</td>\n",
       "      <td>388.749</td>\n",
       "      <td>331.830</td>\n",
       "      <td>-263.424</td>\n",
       "      <td>110221.0</td>\n",
       "    </tr>\n",
       "    <tr>\n",
       "      <th>2021-02-12 14:26:44</th>\n",
       "      <td>179.179</td>\n",
       "      <td>241332</td>\n",
       "      <td>32137.2</td>\n",
       "      <td>491.010</td>\n",
       "      <td>410.399</td>\n",
       "      <td>157.922</td>\n",
       "      <td>413.105</td>\n",
       "      <td>319.947</td>\n",
       "      <td>-257.024</td>\n",
       "      <td>102469.0</td>\n",
       "    </tr>\n",
       "  </tbody>\n",
       "</table>\n",
       "</div>"
      ],
      "text/plain": [
       "                     Standardabweichung_y  Variance_z  Variance_y  \\\n",
       "Time                                                                \n",
       "2021-02-12 14:26:40               194.290      300103     37786.3   \n",
       "2021-02-12 14:26:41               187.558      251653     35213.3   \n",
       "2021-02-12 14:26:42               187.221      268792     35086.6   \n",
       "2021-02-12 14:26:43               177.010      279167     31363.9   \n",
       "2021-02-12 14:26:44               179.179      241332     32137.2   \n",
       "\n",
       "                     Standardabweichung_z  Effektivwert_x  \\\n",
       "Time                                                        \n",
       "2021-02-12 14:26:40               547.542         421.507   \n",
       "2021-02-12 14:26:41               501.399         426.146   \n",
       "2021-02-12 14:26:42               518.193         418.621   \n",
       "2021-02-12 14:26:43               528.098         423.678   \n",
       "2021-02-12 14:26:44               491.010         410.399   \n",
       "\n",
       "                     Mittlere_Absolute_Abweichung_y  Effektivwert_y  \\\n",
       "Time                                                                  \n",
       "2021-02-12 14:26:40                         168.181         430.811   \n",
       "2021-02-12 14:26:41                         162.307         407.917   \n",
       "2021-02-12 14:26:42                         163.119         419.403   \n",
       "2021-02-12 14:26:43                         151.958         388.749   \n",
       "2021-02-12 14:26:44                         157.922         413.105   \n",
       "\n",
       "                     Standardabweichung_x  Mittelwert_x  Variance_x  \n",
       "Time                                                                 \n",
       "2021-02-12 14:26:40               336.610      -253.696    113420.0  \n",
       "2021-02-12 14:26:41               342.401      -253.696    117356.0  \n",
       "2021-02-12 14:26:42               328.824      -259.072    108233.0  \n",
       "2021-02-12 14:26:43               331.830      -263.424    110221.0  \n",
       "2021-02-12 14:26:44               319.947      -257.024    102469.0  "
      ]
     },
     "execution_count": 80,
     "metadata": {},
     "output_type": "execute_result"
    }
   ],
   "source": [
    "import pandas as pd\n",
    "import json\n",
    "part=pd.read_csv('Data\\part2_100000_200000.csv')\n",
    "f=open('important_features.json')\n",
    "feature = json.load(f) \n",
    "important=feature[:10]\n",
    "\n",
    "part['Date'] = pd.to_datetime(part['Timestamp'], unit='s')\n",
    "part['Date']=part.Date.dt.strftime('%Y-%m-%d %H:%M:%S')\n",
    "part['Time'] = pd.date_range(start='2021-02-12 14:26:40', periods=part.shape[0], freq='S')\n",
    "part['Time']=part.Time.dt.strftime('%Y-%m-%d %H:%M:%S')\n",
    "\n",
    "#set 'Time' as index\n",
    "part = part.set_index('Time')\n",
    "all_data=part[important]\n",
    "all_data.head()\n"
   ]
  },
  {
   "cell_type": "code",
   "execution_count": 2,
   "metadata": {},
   "outputs": [],
   "source": [
    "import pandas as pd\n",
    "import json\n",
    "part=pd.read_csv(r'D:\\studydata\\Masterarbeit\\lian333\\transformer_all\\Data\\ETT\\Wurzburg.csv')"
   ]
  },
  {
   "cell_type": "code",
   "execution_count": 3,
   "metadata": {},
   "outputs": [
    {
     "data": {
      "text/plain": [
       "250500"
      ]
     },
     "execution_count": 3,
     "metadata": {},
     "output_type": "execute_result"
    }
   ],
   "source": [
    "len(part)"
   ]
  },
  {
   "cell_type": "code",
   "execution_count": null,
   "metadata": {},
   "outputs": [],
   "source": []
  },
  {
   "cell_type": "code",
   "execution_count": null,
   "metadata": {},
   "outputs": [],
   "source": []
  },
  {
   "cell_type": "code",
   "execution_count": 84,
   "metadata": {},
   "outputs": [
    {
     "data": {
      "text/plain": [
       "True"
      ]
     },
     "execution_count": 84,
     "metadata": {},
     "output_type": "execute_result"
    }
   ],
   "source": [
    "import torch\n",
    "\n",
    "torch.cuda.is_available()"
   ]
  },
  {
   "cell_type": "code",
   "execution_count": 87,
   "metadata": {},
   "outputs": [],
   "source": [
    "import pandas as pd\n",
    "import matplotlib.pyplot as plt\n",
    "\n",
    "from gluonts.dataset.pandas import PandasDataset\n",
    "from gluonts.dataset.split import split\n",
    "from gluonts.torch import DeepAREstimator\n"
   ]
  },
  {
   "cell_type": "code",
   "execution_count": null,
   "metadata": {},
   "outputs": [],
   "source": [
    "\n",
    "# conda install python=<版本号>\n",
    "# pip install pydantic==1.10.11\n",
    "# conda install -n final ipykernel --update-deps --force-reinstall\n"
   ]
  }
 ],
 "metadata": {
  "kernelspec": {
   "display_name": "Autoformer",
   "language": "python",
   "name": "python3"
  },
  "language_info": {
   "codemirror_mode": {
    "name": "ipython",
    "version": 3
   },
   "file_extension": ".py",
   "mimetype": "text/x-python",
   "name": "python",
   "nbconvert_exporter": "python",
   "pygments_lexer": "ipython3",
   "version": "3.9.19"
  }
 },
 "nbformat": 4,
 "nbformat_minor": 2
}
